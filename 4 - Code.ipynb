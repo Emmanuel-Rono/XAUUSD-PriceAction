{
 "cells": [
  {
   "cell_type": "markdown",
   "metadata": {
    "ExecuteTime": {
     "end_time": "2023-07-05T21:34:39.891999Z",
     "start_time": "2023-07-05T21:34:37.497942Z"
    }
   },
   "source": [
    "# Imports"
   ]
  },
  {
   "cell_type": "code",
   "execution_count": 1,
   "metadata": {
    "ExecuteTime": {
     "end_time": "2023-07-09T20:36:00.600785Z",
     "start_time": "2023-07-09T20:35:56.175043Z"
    }
   },
   "outputs": [
    {
     "name": "stdout",
     "output_type": "stream",
     "text": [
      "keras version  2.9.0\n"
     ]
    }
   ],
   "source": [
    "#!/usr/bin/env python\n",
    "# coding: utf-8\n",
    "from __future__ import print_function\n",
    "from matplotlib import pyplot as plt\n",
    "from matplotlib.pyplot import figure\n",
    "\n",
    "import os\n",
    "import sys\n",
    "import json\n",
    "import time\n",
    "import pickle\n",
    "import numpy as np\n",
    "import pandas as pd\n",
    "import seaborn as sns\n",
    "from scipy import stats\n",
    "from os import listdir\n",
    "from os.path import isfile, join\n",
    "from tqdm import tqdm\n",
    "\n",
    "from sklearn import metrics\n",
    "from sklearn.metrics import classification_report\n",
    "from sklearn import preprocessing\n",
    "from sklearn.model_selection import train_test_split\n",
    "\n",
    "import tensorflow as tf\n",
    "import keras\n",
    "from keras import backend as K\n",
    "from keras.models import Sequential\n",
    "from keras.layers import Input,Dense, Dropout, Flatten, Reshape, GlobalAveragePooling1D, BatchNormalization,LSTM,Bidirectional\n",
    "from keras.layers import Conv2D, MaxPooling2D, Conv1D, MaxPooling1D,UpSampling1D, Conv1DTranspose,GaussianNoise \n",
    "from keras.utils import np_utils\n",
    "from keras import backend as K\n",
    "from keras.callbacks import Callback\n",
    "from keras.regularizers import l2 , l1, l1_l2\n",
    "import tensorflow.keras.backend as kb\n",
    "print('keras version ', keras.__version__)\n",
    "from IPython.display import clear_output\n",
    "from keras.utils.vis_utils import plot_model\n",
    "from keras.utils import to_categorical"
   ]
  },
  {
   "cell_type": "markdown",
   "metadata": {},
   "source": [
    "# Config"
   ]
  },
  {
   "cell_type": "code",
   "execution_count": 2,
   "metadata": {
    "ExecuteTime": {
     "end_time": "2023-07-09T20:36:00.608713Z",
     "start_time": "2023-07-09T20:36:00.604106Z"
    }
   },
   "outputs": [],
   "source": [
    "window_size = 100\n",
    "tp = 2\n",
    "sp = 2\n",
    "max_range_allowed = 30\n",
    "validation_size = 0.2\n",
    "test_size = 0.2"
   ]
  },
  {
   "cell_type": "markdown",
   "metadata": {},
   "source": [
    "# Load CSV"
   ]
  },
  {
   "cell_type": "code",
   "execution_count": 3,
   "metadata": {
    "ExecuteTime": {
     "end_time": "2023-07-09T20:36:00.976248Z",
     "start_time": "2023-07-09T20:36:00.612603Z"
    }
   },
   "outputs": [
    {
     "data": {
      "text/html": [
       "<div>\n",
       "<style scoped>\n",
       "    .dataframe tbody tr th:only-of-type {\n",
       "        vertical-align: middle;\n",
       "    }\n",
       "\n",
       "    .dataframe tbody tr th {\n",
       "        vertical-align: top;\n",
       "    }\n",
       "\n",
       "    .dataframe thead th {\n",
       "        text-align: right;\n",
       "    }\n",
       "</style>\n",
       "<table border=\"1\" class=\"dataframe\">\n",
       "  <thead>\n",
       "    <tr style=\"text-align: right;\">\n",
       "      <th></th>\n",
       "      <th>Time</th>\n",
       "      <th>Open</th>\n",
       "      <th>High</th>\n",
       "      <th>Low</th>\n",
       "      <th>Close</th>\n",
       "      <th>Volume</th>\n",
       "    </tr>\n",
       "  </thead>\n",
       "  <tbody>\n",
       "    <tr>\n",
       "      <th>0</th>\n",
       "      <td>2022-08-02 22:02</td>\n",
       "      <td>1761.724</td>\n",
       "      <td>1761.784</td>\n",
       "      <td>1761.208</td>\n",
       "      <td>1761.264</td>\n",
       "      <td>1</td>\n",
       "    </tr>\n",
       "    <tr>\n",
       "      <th>1</th>\n",
       "      <td>2022-08-02 22:03</td>\n",
       "      <td>1761.244</td>\n",
       "      <td>1761.754</td>\n",
       "      <td>1761.148</td>\n",
       "      <td>1761.438</td>\n",
       "      <td>1</td>\n",
       "    </tr>\n",
       "  </tbody>\n",
       "</table>\n",
       "</div>"
      ],
      "text/plain": [
       "               Time      Open      High       Low     Close  Volume\n",
       "0  2022-08-02 22:02  1761.724  1761.784  1761.208  1761.264       1\n",
       "1  2022-08-02 22:03  1761.244  1761.754  1761.148  1761.438       1"
      ]
     },
     "execution_count": 3,
     "metadata": {},
     "output_type": "execute_result"
    }
   ],
   "source": [
    "data1 = pd.read_csv(\"./Data/01/XAUUSD1.csv\", sep=\"\\t\", header=None)\n",
    "data1.columns = [\"Time\", \"Open\", \"High\", \"Low\", \"Close\", \"Volume\"]\n",
    "data1.head(2)"
   ]
  },
  {
   "cell_type": "code",
   "execution_count": 4,
   "metadata": {
    "ExecuteTime": {
     "end_time": "2023-07-09T20:36:01.415608Z",
     "start_time": "2023-07-09T20:36:00.979561Z"
    }
   },
   "outputs": [
    {
     "data": {
      "text/html": [
       "<div>\n",
       "<style scoped>\n",
       "    .dataframe tbody tr th:only-of-type {\n",
       "        vertical-align: middle;\n",
       "    }\n",
       "\n",
       "    .dataframe tbody tr th {\n",
       "        vertical-align: top;\n",
       "    }\n",
       "\n",
       "    .dataframe thead th {\n",
       "        text-align: right;\n",
       "    }\n",
       "</style>\n",
       "<table border=\"1\" class=\"dataframe\">\n",
       "  <thead>\n",
       "    <tr style=\"text-align: right;\">\n",
       "      <th></th>\n",
       "      <th>Time</th>\n",
       "      <th>Open</th>\n",
       "      <th>High</th>\n",
       "      <th>Low</th>\n",
       "      <th>Close</th>\n",
       "      <th>Volume</th>\n",
       "    </tr>\n",
       "  </thead>\n",
       "  <tbody>\n",
       "    <tr>\n",
       "      <th>0</th>\n",
       "      <td>2022-12-09 01:06</td>\n",
       "      <td>1791.348</td>\n",
       "      <td>1791.538</td>\n",
       "      <td>1791.248</td>\n",
       "      <td>1791.258</td>\n",
       "      <td>1</td>\n",
       "    </tr>\n",
       "    <tr>\n",
       "      <th>1</th>\n",
       "      <td>2022-12-09 01:07</td>\n",
       "      <td>1791.178</td>\n",
       "      <td>1791.577</td>\n",
       "      <td>1791.168</td>\n",
       "      <td>1791.538</td>\n",
       "      <td>1</td>\n",
       "    </tr>\n",
       "  </tbody>\n",
       "</table>\n",
       "</div>"
      ],
      "text/plain": [
       "               Time      Open      High       Low     Close  Volume\n",
       "0  2022-12-09 01:06  1791.348  1791.538  1791.248  1791.258       1\n",
       "1  2022-12-09 01:07  1791.178  1791.577  1791.168  1791.538       1"
      ]
     },
     "execution_count": 4,
     "metadata": {},
     "output_type": "execute_result"
    }
   ],
   "source": [
    "data2 = pd.read_csv(\"./Data/02/XAUUSD_M1.csv\", sep=\"\\t\")\n",
    "data2['Time'] = data2['Time'].apply(lambda x: x[:-3])\n",
    "data2.head(2)"
   ]
  },
  {
   "cell_type": "code",
   "execution_count": 5,
   "metadata": {
    "ExecuteTime": {
     "end_time": "2023-07-09T20:36:01.660893Z",
     "start_time": "2023-07-09T20:36:01.418348Z"
    }
   },
   "outputs": [],
   "source": [
    "s1 = set(data1[\"Time\"])\n",
    "s2 = set(data2[\"Time\"])\n",
    "data1 = data1[data1[\"Time\"].isin(s1 - s2)]"
   ]
  },
  {
   "cell_type": "code",
   "execution_count": 6,
   "metadata": {
    "ExecuteTime": {
     "end_time": "2023-07-09T20:36:01.731933Z",
     "start_time": "2023-07-09T20:36:01.663896Z"
    }
   },
   "outputs": [
    {
     "name": "stdout",
     "output_type": "stream",
     "text": [
      "(331486, 6)\n"
     ]
    },
    {
     "data": {
      "text/html": [
       "<div>\n",
       "<style scoped>\n",
       "    .dataframe tbody tr th:only-of-type {\n",
       "        vertical-align: middle;\n",
       "    }\n",
       "\n",
       "    .dataframe tbody tr th {\n",
       "        vertical-align: top;\n",
       "    }\n",
       "\n",
       "    .dataframe thead th {\n",
       "        text-align: right;\n",
       "    }\n",
       "</style>\n",
       "<table border=\"1\" class=\"dataframe\">\n",
       "  <thead>\n",
       "    <tr style=\"text-align: right;\">\n",
       "      <th></th>\n",
       "      <th>Time</th>\n",
       "      <th>Open</th>\n",
       "      <th>High</th>\n",
       "      <th>Low</th>\n",
       "      <th>Close</th>\n",
       "      <th>Volume</th>\n",
       "    </tr>\n",
       "  </thead>\n",
       "  <tbody>\n",
       "    <tr>\n",
       "      <th>0</th>\n",
       "      <td>2022-08-02 22:02</td>\n",
       "      <td>1761.724</td>\n",
       "      <td>1761.784</td>\n",
       "      <td>1761.208</td>\n",
       "      <td>1761.264</td>\n",
       "      <td>1</td>\n",
       "    </tr>\n",
       "    <tr>\n",
       "      <th>1</th>\n",
       "      <td>2022-08-02 22:03</td>\n",
       "      <td>1761.244</td>\n",
       "      <td>1761.754</td>\n",
       "      <td>1761.148</td>\n",
       "      <td>1761.438</td>\n",
       "      <td>1</td>\n",
       "    </tr>\n",
       "  </tbody>\n",
       "</table>\n",
       "</div>"
      ],
      "text/plain": [
       "               Time      Open      High       Low     Close  Volume\n",
       "0  2022-08-02 22:02  1761.724  1761.784  1761.208  1761.264       1\n",
       "1  2022-08-02 22:03  1761.244  1761.754  1761.148  1761.438       1"
      ]
     },
     "execution_count": 6,
     "metadata": {},
     "output_type": "execute_result"
    }
   ],
   "source": [
    "data = pd.concat([data1, data2])\n",
    "print(data.shape)\n",
    "data.head(2)"
   ]
  },
  {
   "cell_type": "code",
   "execution_count": 7,
   "metadata": {
    "ExecuteTime": {
     "end_time": "2023-07-09T20:36:02.054363Z",
     "start_time": "2023-07-09T20:36:01.734692Z"
    },
    "scrolled": true
   },
   "outputs": [
    {
     "data": {
      "text/html": [
       "<div>\n",
       "<style scoped>\n",
       "    .dataframe tbody tr th:only-of-type {\n",
       "        vertical-align: middle;\n",
       "    }\n",
       "\n",
       "    .dataframe tbody tr th {\n",
       "        vertical-align: top;\n",
       "    }\n",
       "\n",
       "    .dataframe thead th {\n",
       "        text-align: right;\n",
       "    }\n",
       "</style>\n",
       "<table border=\"1\" class=\"dataframe\">\n",
       "  <thead>\n",
       "    <tr style=\"text-align: right;\">\n",
       "      <th></th>\n",
       "      <th>Time</th>\n",
       "      <th>Open</th>\n",
       "      <th>High</th>\n",
       "      <th>Low</th>\n",
       "      <th>Close</th>\n",
       "      <th>Volume</th>\n",
       "    </tr>\n",
       "  </thead>\n",
       "  <tbody>\n",
       "    <tr>\n",
       "      <th>0</th>\n",
       "      <td>2022-08-02 22:02</td>\n",
       "      <td>1761.724</td>\n",
       "      <td>1761.784</td>\n",
       "      <td>1761.208</td>\n",
       "      <td>1761.264</td>\n",
       "      <td>1</td>\n",
       "    </tr>\n",
       "    <tr>\n",
       "      <th>1</th>\n",
       "      <td>2022-08-02 22:03</td>\n",
       "      <td>1761.244</td>\n",
       "      <td>1761.754</td>\n",
       "      <td>1761.148</td>\n",
       "      <td>1761.438</td>\n",
       "      <td>1</td>\n",
       "    </tr>\n",
       "  </tbody>\n",
       "</table>\n",
       "</div>"
      ],
      "text/plain": [
       "               Time      Open      High       Low     Close  Volume\n",
       "0  2022-08-02 22:02  1761.724  1761.784  1761.208  1761.264       1\n",
       "1  2022-08-02 22:03  1761.244  1761.754  1761.148  1761.438       1"
      ]
     },
     "execution_count": 7,
     "metadata": {},
     "output_type": "execute_result"
    }
   ],
   "source": [
    "data = data.sort_values(by='Time')\n",
    "data.head(2)"
   ]
  },
  {
   "cell_type": "markdown",
   "metadata": {},
   "source": [
    "# Create dataset"
   ]
  },
  {
   "cell_type": "code",
   "execution_count": 8,
   "metadata": {
    "ExecuteTime": {
     "end_time": "2023-07-09T20:36:02.066025Z",
     "start_time": "2023-07-09T20:36:02.059252Z"
    }
   },
   "outputs": [],
   "source": [
    "def normalize_zero_base(array):\n",
    "    min_val = array.min(axis=0)\n",
    "    max_val = array.max(axis=0)\n",
    "    normalized_array = (array - min_val) / (max_val - min_val)\n",
    "    return normalized_array\n",
    "\n",
    "\n",
    "def standardization(array):\n",
    "    mean = array.mean(axis=0)    \n",
    "    std = np.array([x[:,i].std() for i in range(x.shape[1])])            \n",
    "    return (array - mean) / std\n",
    "\n",
    "def standardization(array):\n",
    "    mean = x.mean()\n",
    "    std = x.std()   \n",
    "    return (array - mean) / std"
   ]
  },
  {
   "cell_type": "code",
   "execution_count": 9,
   "metadata": {
    "ExecuteTime": {
     "end_time": "2023-07-09T20:38:32.275339Z",
     "start_time": "2023-07-09T20:36:02.069628Z"
    },
    "scrolled": true
   },
   "outputs": [
    {
     "name": "stderr",
     "output_type": "stream",
     "text": [
      "100%|██████████| 331386/331386 [02:30<00:00, 2208.44it/s]\n"
     ]
    }
   ],
   "source": [
    "features = []\n",
    "targets = []\n",
    "values = data.values\n",
    "for i in tqdm(range(window_size, data.shape[0])):    \n",
    "    x = values[i-window_size:i, 1:-1]    \n",
    "    x = standardization(x)\n",
    "    features.append(x)\n",
    "    price = values[i-1, 4]        \n",
    "    decistion = False\n",
    "    counter = 0\n",
    "    for j in range(i, data.shape[0]):\n",
    "        counter += 1 \n",
    "        low = values[j, 3]\n",
    "        high = values[j, 2]         \n",
    "        if((price - sp) >= low):\n",
    "            targets.append(-1)\n",
    "            decistion = True             \n",
    "            break\n",
    "        \n",
    "        if((price + tp) <= high):\n",
    "            targets.append(1)\n",
    "            decistion = True            \n",
    "            break\n",
    "            \n",
    "        if(counter >= max_range_allowed):\n",
    "            break\n",
    "    if(not decistion):\n",
    "        targets.append(0)        "
   ]
  },
  {
   "cell_type": "code",
   "execution_count": 10,
   "metadata": {
    "ExecuteTime": {
     "end_time": "2023-07-09T20:38:33.688257Z",
     "start_time": "2023-07-09T20:38:32.279236Z"
    }
   },
   "outputs": [
    {
     "data": {
      "image/png": "[encoded data removed]",
      "text/plain": [
       "<Figure size 720x360 with 1 Axes>"
      ]
     },
     "metadata": {
      "needs_background": "light"
     },
     "output_type": "display_data"
    }
   ],
   "source": [
    "plt.figure(figsize=(10,5))\n",
    "for i in range(window_size, 500):\n",
    "    if(targets[i-window_size] == 1):\n",
    "        color = [0.25, 1., 0.25, 1. ]\n",
    "    if(targets[i-window_size] == -1):\n",
    "        color = [1., 0, 0, 1. ]\n",
    "    if(targets[i-window_size] == 0):\n",
    "        color = [0.5, 0.5, 0.5 ]        \n",
    "    plt.plot(i-window_size, values[i,4] , marker='o', markersize=5, color=color)\n",
    "plt.show()"
   ]
  },
  {
   "cell_type": "markdown",
   "metadata": {},
   "source": [
    "# Train and test split"
   ]
  },
  {
   "cell_type": "code",
   "execution_count": 11,
   "metadata": {
    "ExecuteTime": {
     "end_time": "2023-07-09T20:38:33.726170Z",
     "start_time": "2023-07-09T20:38:33.691169Z"
    },
    "scrolled": true
   },
   "outputs": [
    {
     "name": "stdout",
     "output_type": "stream",
     "text": [
      "212088 212088\n",
      "66277 66277\n",
      "53021 53021\n"
     ]
    }
   ],
   "source": [
    "def train_test_split(features, targets, test_size):    \n",
    "    split = len(features) - int(test_size * len(features))\n",
    "    x_train = features[:split]\n",
    "    y_train = targets[:split]\n",
    "    x_test = features[split:]\n",
    "    y_test = targets[split:]\n",
    "    return x_train, y_train, x_test, y_test\n",
    "\n",
    "x_train, y_train, x_test, y_test = train_test_split(features, targets, test_size)\n",
    "x_train, y_train, x_val, y_val = train_test_split(x_train, y_train, validation_size)\n",
    "\n",
    "print(len(x_train), len(y_train))\n",
    "print(len(x_test), len(y_test))\n",
    "print(len(x_val), len(y_val))"
   ]
  },
  {
   "cell_type": "markdown",
   "metadata": {},
   "source": [
    "# Change dataset types"
   ]
  },
  {
   "cell_type": "code",
   "execution_count": 12,
   "metadata": {
    "ExecuteTime": {
     "end_time": "2023-07-09T20:38:48.981699Z",
     "start_time": "2023-07-09T20:38:33.729081Z"
    }
   },
   "outputs": [],
   "source": [
    "x_train = np.array(x_train).astype(\"float32\")\n",
    "y_train = np.array(y_train).astype(\"float32\")\n",
    "x_val = np.array(x_val).astype(\"float32\")\n",
    "y_val = np.array(y_val).astype(\"float32\")\n",
    "x_test = np.array(x_test).astype(\"float32\")\n",
    "y_test = np.array(y_test).astype(\"float32\")"
   ]
  },
  {
   "cell_type": "code",
   "execution_count": 13,
   "metadata": {
    "ExecuteTime": {
     "end_time": "2023-07-09T20:38:49.088688Z",
     "start_time": "2023-07-09T20:38:48.984741Z"
    },
    "scrolled": false
   },
   "outputs": [
    {
     "data": {
      "image/png": "[encoded data removed]",
      "text/plain": [
       "<Figure size 432x288 with 1 Axes>"
      ]
     },
     "metadata": {},
     "output_type": "display_data"
    }
   ],
   "source": [
    "freq = pd.Series(y_train).value_counts()\n",
    "plt.pie(freq.values, labels=freq.index, autopct='%1.1f%%')\n",
    "plt.title('Class Distribution')\n",
    "plt.show()"
   ]
  },
  {
   "cell_type": "code",
   "execution_count": 14,
   "metadata": {
    "ExecuteTime": {
     "end_time": "2023-07-09T20:38:49.099485Z",
     "start_time": "2023-07-09T20:38:49.091477Z"
    }
   },
   "outputs": [],
   "source": [
    "y_train = to_categorical(y_train, num_classes=3)\n",
    "y_val = to_categorical(y_val, num_classes=3)\n",
    "y_test = to_categorical(y_test, num_classes=3)"
   ]
  },
  {
   "cell_type": "markdown",
   "metadata": {},
   "source": [
    "# Class weight"
   ]
  },
  {
   "cell_type": "code",
   "execution_count": 15,
   "metadata": {
    "ExecuteTime": {
     "end_time": "2023-07-09T20:38:49.114591Z",
     "start_time": "2023-07-09T20:38:49.102247Z"
    }
   },
   "outputs": [
    {
     "data": {
      "text/plain": [
       "{0: 1.0, 1: 1.9469422, 2: 2.0159698}"
      ]
     },
     "execution_count": 15,
     "metadata": {},
     "output_type": "execute_result"
    }
   ],
   "source": [
    "freq = y_train.sum(axis=0)\n",
    "class_weight = {\n",
    "    0: freq[0]/ freq[0],\n",
    "    1: freq[0]/ freq[1],\n",
    "    2: freq[0]/ freq[2]\n",
    "}\n",
    "class_weight"
   ]
  },
  {
   "cell_type": "markdown",
   "metadata": {},
   "source": [
    "# Deep learning model"
   ]
  },
  {
   "cell_type": "code",
   "execution_count": 16,
   "metadata": {
    "ExecuteTime": {
     "end_time": "2023-07-09T20:38:50.483583Z",
     "start_time": "2023-07-09T20:38:49.117263Z"
    }
   },
   "outputs": [
    {
     "name": "stdout",
     "output_type": "stream",
     "text": [
      "Model: \"sequential\"\n",
      "_________________________________________________________________\n",
      " Layer (type)                Output Shape              Param #   \n",
      "=================================================================\n",
      " dense (Dense)               (None, 100, 64)           320       \n",
      "                                                                 \n",
      " lstm (LSTM)                 (None, 100, 64)           33024     \n",
      "                                                                 \n",
      " dropout (Dropout)           (None, 100, 64)           0         \n",
      "                                                                 \n",
      " batch_normalization (BatchN  (None, 100, 64)          256       \n",
      " ormalization)                                                   \n",
      "                                                                 \n",
      " lstm_1 (LSTM)               (None, 32)                12416     \n",
      "                                                                 \n",
      " dropout_1 (Dropout)         (None, 32)                0         \n",
      "                                                                 \n",
      " batch_normalization_1 (Batc  (None, 32)               128       \n",
      " hNormalization)                                                 \n",
      "                                                                 \n",
      " dense_1 (Dense)             (None, 16)                528       \n",
      "                                                                 \n",
      " dense_2 (Dense)             (None, 8)                 136       \n",
      "                                                                 \n",
      " dense_3 (Dense)             (None, 3)                 27        \n",
      "                                                                 \n",
      "=================================================================\n",
      "Total params: 46,835\n",
      "Trainable params: 46,643\n",
      "Non-trainable params: 192\n",
      "_________________________________________________________________\n"
     ]
    }
   ],
   "source": [
    "model = Sequential()\n",
    "model.add(Dense(64, activation='relu', input_shape=(x_train.shape[1], x_train.shape[2])))\n",
    "model.add(LSTM(64, return_sequences=True))\n",
    "model.add(Dropout(0.25))\n",
    "model.add(BatchNormalization())\n",
    "model.add(LSTM(32))\n",
    "model.add(Dropout(0.25))\n",
    "model.add(BatchNormalization())\n",
    "model.add(Dense(16, activation='relu'))\n",
    "model.add(Dense(8, activation='relu'))\n",
    "model.add(Dense(3, activation='softmax'))\n",
    "model.summary()"
   ]
  },
  {
   "cell_type": "code",
   "execution_count": 17,
   "metadata": {
    "ExecuteTime": {
     "end_time": "2023-07-09T20:38:50.696412Z",
     "start_time": "2023-07-09T20:38:50.486710Z"
    }
   },
   "outputs": [
    {
     "name": "stdout",
     "output_type": "stream",
     "text": [
      "Model: \"sequential_1\"\n",
      "_________________________________________________________________\n",
      " Layer (type)                Output Shape              Param #   \n",
      "=================================================================\n",
      " flatten (Flatten)           (None, 400)               0         \n",
      "                                                                 \n",
      " dense_4 (Dense)             (None, 128)               51328     \n",
      "                                                                 \n",
      " batch_normalization_2 (Batc  (None, 128)              512       \n",
      " hNormalization)                                                 \n",
      "                                                                 \n",
      " dropout_2 (Dropout)         (None, 128)               0         \n",
      "                                                                 \n",
      " dense_5 (Dense)             (None, 64)                8256      \n",
      "                                                                 \n",
      " batch_normalization_3 (Batc  (None, 64)               256       \n",
      " hNormalization)                                                 \n",
      "                                                                 \n",
      " dropout_3 (Dropout)         (None, 64)                0         \n",
      "                                                                 \n",
      " dense_6 (Dense)             (None, 32)                2080      \n",
      "                                                                 \n",
      " batch_normalization_4 (Batc  (None, 32)               128       \n",
      " hNormalization)                                                 \n",
      "                                                                 \n",
      " dropout_4 (Dropout)         (None, 32)                0         \n",
      "                                                                 \n",
      " dense_7 (Dense)             (None, 16)                528       \n",
      "                                                                 \n",
      " dense_8 (Dense)             (None, 3)                 51        \n",
      "                                                                 \n",
      "=================================================================\n",
      "Total params: 63,139\n",
      "Trainable params: 62,691\n",
      "Non-trainable params: 448\n",
      "_________________________________________________________________\n"
     ]
    }
   ],
   "source": [
    "model = Sequential()\n",
    "model.add(Flatten(input_shape=(x_train.shape[1], x_train.shape[2])))\n",
    "model.add(Dense(128, activation='relu'))\n",
    "model.add(BatchNormalization())\n",
    "model.add(Dropout(0.25))\n",
    "model.add(Dense(64, activation='relu'))\n",
    "model.add(BatchNormalization())\n",
    "model.add(Dropout(0.25))\n",
    "model.add(Dense(32, activation='relu'))\n",
    "model.add(BatchNormalization())\n",
    "model.add(Dropout(0.25))\n",
    "model.add(Dense(16, activation='relu'))\n",
    "model.add(Dense(3, activation='softmax'))\n",
    "model.summary()"
   ]
  },
  {
   "cell_type": "markdown",
   "metadata": {},
   "source": [
    "# Train the model"
   ]
  },
  {
   "cell_type": "code",
   "execution_count": 18,
   "metadata": {
    "ExecuteTime": {
     "end_time": "2023-07-09T20:47:30.142133Z",
     "start_time": "2023-07-09T20:38:50.699459Z"
    }
   },
   "outputs": [
    {
     "name": "stdout",
     "output_type": "stream",
     "text": [
      "Epoch 1/100\n",
      "6628/6628 [==============================] - 37s 5ms/step - loss: 1.6513 - acc: 0.3551 - val_loss: 1.0919 - val_acc: 0.3833\n",
      "Epoch 2/100\n",
      "6628/6628 [==============================] - 34s 5ms/step - loss: 1.6254 - acc: 0.4283 - val_loss: 1.0856 - val_acc: 0.4159\n",
      "Epoch 4/100\n",
      "6628/6628 [==============================] - 34s 5ms/step - loss: 1.6214 - acc: 0.4368 - val_loss: 1.0825 - val_acc: 0.4105\n",
      "Epoch 5/100\n",
      "6628/6628 [==============================] - 34s 5ms/step - loss: 1.6188 - acc: 0.4414 - val_loss: 1.0778 - val_acc: 0.4260\n",
      "Epoch 6/100\n",
      "6628/6628 [==============================] - 34s 5ms/step - loss: 1.6178 - acc: 0.4414 - val_loss: 1.0740 - val_acc: 0.4283\n",
      "Epoch 7/100\n",
      "6628/6628 [==============================] - 34s 5ms/step - loss: 1.6161 - acc: 0.4406 - val_loss: 1.0760 - val_acc: 0.4220\n",
      "Epoch 8/100\n",
      "6628/6628 [==============================] - 35s 5ms/step - loss: 1.6153 - acc: 0.4424 - val_loss: 1.0747 - val_acc: 0.4331\n",
      "Epoch 9/100\n",
      "6628/6628 [==============================] - 34s 5ms/step - loss: 1.6141 - acc: 0.4445 - val_loss: 1.0751 - val_acc: 0.4303\n",
      "Epoch 10/100\n",
      "6628/6628 [==============================] - 34s 5ms/step - loss: 1.6134 - acc: 0.4456 - val_loss: 1.0715 - val_acc: 0.4355\n",
      "Epoch 11/100\n",
      "6628/6628 [==============================] - 35s 5ms/step - loss: 1.6119 - acc: 0.4464 - val_loss: 1.0731 - val_acc: 0.4293\n",
      "Epoch 12/100\n",
      "6628/6628 [==============================] - 35s 5ms/step - loss: 1.6116 - acc: 0.4438 - val_loss: 1.0747 - val_acc: 0.4310\n",
      "Epoch 13/100\n",
      "6628/6628 [==============================] - 34s 5ms/step - loss: 1.6102 - acc: 0.4457 - val_loss: 1.0733 - val_acc: 0.4299\n",
      "Epoch 14/100\n",
      "6628/6628 [==============================] - 34s 5ms/step - loss: 1.6092 - acc: 0.4450 - val_loss: 1.0736 - val_acc: 0.4289\n",
      "Epoch 15/100\n",
      "6628/6628 [==============================] - 35s 5ms/step - loss: 1.6084 - acc: 0.4445 - val_loss: 1.0767 - val_acc: 0.4289\n"
     ]
    }
   ],
   "source": [
    "model.compile(\n",
    "    loss='categorical_crossentropy',\n",
    "    optimizer=tf.keras.optimizers.Adam(),\n",
    "    metrics=['acc']\n",
    ")\n",
    "\n",
    "epochs = 100\n",
    "batch_size = 32\n",
    "\n",
    "es = tf.keras.callbacks.EarlyStopping(monitor=\"val_loss\", patience=5)\n",
    "\n",
    "history = model.fit(x_train, \n",
    "                    y_train,\n",
    "                    epochs=epochs,\n",
    "                    validation_data=(x_val, y_val),\n",
    "                    batch_size=batch_size,\n",
    "                    verbose=1,\n",
    "                    callbacks=[es],\n",
    "                    class_weight=class_weight\n",
    "                   )"
   ]
  },
  {
   "cell_type": "code",
   "execution_count": 19,
   "metadata": {
    "ExecuteTime": {
     "end_time": "2023-07-09T20:47:30.526008Z",
     "start_time": "2023-07-09T20:47:30.146630Z"
    }
   },
   "outputs": [
    {
     "data": {
      "image/png": "[encoded data removed]",
      "text/plain": [
       "<Figure size 1440x504 with 1 Axes>"
      ]
     },
     "metadata": {
      "needs_background": "light"
     },
     "output_type": "display_data"
    }
   ],
   "source": [
    "linewidth = 1.5\n",
    "plt.figure(figsize=(20, 7))\n",
    "plt.plot(history.history['loss'],'b',linewidth=linewidth)\n",
    "plt.plot(history.history['val_loss'],'g',linewidth=linewidth)\n",
    "plt.title(f'Train and validation loss')\n",
    "plt.legend(['Train', 'Validation'], loc='upper right')\n",
    "plt.xlabel('Epoch')\n",
    "plt.ylabel('Loss')\n",
    "plt.show()"
   ]
  },
  {
   "cell_type": "code",
   "execution_count": 20,
   "metadata": {
    "ExecuteTime": {
     "end_time": "2023-07-09T20:47:30.537585Z",
     "start_time": "2023-07-09T20:47:30.529031Z"
    }
   },
   "outputs": [],
   "source": [
    "def show_confusion_matrix(validations, predictions, LABELS=['Down', 'UP']):            \n",
    "    freq = metrics.confusion_matrix(validations, predictions)        \n",
    "    sensitivity =  (np.divide(freq.transpose(),\n",
    "                             np.sum(freq, axis=1)).transpose() * 100).round(2)    \n",
    "    annotation = []\n",
    "    for i in range(freq.shape[0]):\n",
    "        row = []\n",
    "        for j in range(freq.shape[1]):\n",
    "            row.append(f'{freq[i][j]}\\n {sensitivity[i][j]}%')            \n",
    "        annotation.append(row)\n",
    "    annotation = np.array(annotation)\n",
    "    sns.heatmap(sensitivity, cmap=\"YlOrBr\",\n",
    "                vmin=0, vmax=100,\n",
    "                linecolor='white',\n",
    "                linewidths=1,\n",
    "                xticklabels=LABELS,\n",
    "                yticklabels=LABELS,\n",
    "                annot=annotation,\n",
    "               fmt=':<')    \n",
    "    plt.title(\"Confusion Matrix\")\n",
    "    plt.ylabel(\"Actually Label\")\n",
    "    plt.xlabel(\"Predicted Label\")\n",
    "    plt.show()            "
   ]
  },
  {
   "cell_type": "code",
   "execution_count": 21,
   "metadata": {
    "ExecuteTime": {
     "end_time": "2023-07-09T20:47:48.062287Z",
     "start_time": "2023-07-09T20:47:30.540742Z"
    }
   },
   "outputs": [
    {
     "name": "stdout",
     "output_type": "stream",
     "text": [
      "6628/6628 [==============================] - 13s 2ms/step\n"
     ]
    },
    {
     "data": {
      "image/png": "[encoded data removed]",
      "text/plain": [
       "<Figure size 432x288 with 2 Axes>"
      ]
     },
     "metadata": {
      "needs_background": "light"
     },
     "output_type": "display_data"
    }
   ],
   "source": [
    "y_pred = model.predict(x_train).squeeze().argmax(axis=1)\n",
    "show_confusion_matrix(y_train.argmax(axis=1), y_pred, LABELS=[\"range\", \"buy\", \"sell\"])"
   ]
  },
  {
   "cell_type": "code",
   "execution_count": 22,
   "metadata": {
    "ExecuteTime": {
     "end_time": "2023-07-09T20:47:52.763443Z",
     "start_time": "2023-07-09T20:47:48.066019Z"
    }
   },
   "outputs": [
    {
     "name": "stdout",
     "output_type": "stream",
     "text": [
      "1657/1657 [==============================] - 3s 2ms/step\n"
     ]
    },
    {
     "data": {
      "image/png": "[encoded data removed]",
      "text/plain": [
       "<Figure size 432x288 with 2 Axes>"
      ]
     },
     "metadata": {
      "needs_background": "light"
     },
     "output_type": "display_data"
    }
   ],
   "source": [
    "y_pred = model.predict(x_val).squeeze().argmax(axis=1)\n",
    "show_confusion_matrix(y_val.argmax(axis=1), y_pred, LABELS=[\"range\", \"buy\", \"sell\"])"
   ]
  },
  {
   "cell_type": "code",
   "execution_count": null,
   "metadata": {},
   "outputs": [],
   "source": []
  },
  {
   "cell_type": "code",
   "execution_count": null,
   "metadata": {},
   "outputs": [],
   "source": []
  },
  {
   "cell_type": "code",
   "execution_count": null,
   "metadata": {},
   "outputs": [],
   "source": []
  }
 ],
 "metadata": {
  "kernelspec": {
   "display_name": "Python 3",
   "language": "python",
   "name": "python3"
  },
  "language_info": {
   "codemirror_mode": {
    "name": "ipython",
    "version": 3
   },
   "file_extension": ".py",
   "mimetype": "text/x-python",
   "name": "python",
   "nbconvert_exporter": "python",
   "pygments_lexer": "ipython3",
   "version": "3.8.10"
  }
 },
 "nbformat": 4,
 "nbformat_minor": 4
}
