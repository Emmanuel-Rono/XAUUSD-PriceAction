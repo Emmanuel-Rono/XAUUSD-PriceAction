{
 "cells": [
  {
   "cell_type": "markdown",
   "metadata": {
    "ExecuteTime": {
     "end_time": "2023-07-05T21:34:39.891999Z",
     "start_time": "2023-07-05T21:34:37.497942Z"
    }
   },
   "source": [
    "# Imports"
   ]
  },
  {
   "cell_type": "code",
   "execution_count": 51,
   "metadata": {
    "ExecuteTime": {
     "end_time": "2023-10-24T14:15:56.261099Z",
     "start_time": "2023-10-24T14:15:56.256589Z"
    }
   },
   "outputs": [],
   "source": [
    "#!/usr/bin/env python\n",
    "# coding: utf-8\n",
    "import os\n",
    "import sys\n",
    "import json\n",
    "import time\n",
    "import pickle\n",
    "import numpy as np\n",
    "import pandas as pd\n",
    "from matplotlib import pyplot as plt"
   ]
  },
  {
   "cell_type": "code",
   "execution_count": 52,
   "metadata": {
    "ExecuteTime": {
     "end_time": "2023-10-24T14:15:56.422895Z",
     "start_time": "2023-10-24T14:15:56.419091Z"
    }
   },
   "outputs": [],
   "source": [
    "base_dir = \"./Data\"\n",
    "dirs = [\"01\", \"02\", \"03\"]\n",
    "title = \"XAUUSD1.csv\""
   ]
  },
  {
   "cell_type": "code",
   "execution_count": 60,
   "metadata": {
    "ExecuteTime": {
     "end_time": "2023-10-24T14:18:00.204731Z",
     "start_time": "2023-10-24T14:17:59.065114Z"
    },
    "scrolled": true
   },
   "outputs": [
    {
     "name": "stderr",
     "output_type": "stream",
     "text": [
      "<ipython-input-60-c81627139f4d>:3: DtypeWarning: Columns (1,2,3,4,5) have mixed types. Specify dtype option on import or set low_memory=False.\n",
      "  df = pd.read_csv(f'{base_dir}/{_dir}/{title}', sep=\"\\t\", header=None)\n"
     ]
    }
   ],
   "source": [
    "files = []\n",
    "for _dir in dirs:\n",
    "    df = pd.read_csv(f'{base_dir}/{_dir}/{title}', sep=\"\\t\", header=None)\n",
    "    if df.iloc[0,0].lower() == \"time\":\n",
    "        df = df.iloc[1:,:]\n",
    "    df.columns = [\"Time\", \"Open\", \"High\", \"Low\", \"Close\", \"Volume\"]            \n",
    "    files.append( df)"
   ]
  },
  {
   "cell_type": "markdown",
   "metadata": {},
   "source": [
    "# concat all df together"
   ]
  },
  {
   "cell_type": "code",
   "execution_count": 74,
   "metadata": {
    "ExecuteTime": {
     "end_time": "2023-10-24T14:22:24.719622Z",
     "start_time": "2023-10-24T14:22:24.612586Z"
    },
    "scrolled": true
   },
   "outputs": [
    {
     "data": {
      "text/plain": [
       "(600000, 6)"
      ]
     },
     "execution_count": 74,
     "metadata": {},
     "output_type": "execute_result"
    }
   ],
   "source": [
    "df = pd.concat(files)\n",
    "df.shape"
   ]
  },
  {
   "cell_type": "markdown",
   "metadata": {},
   "source": [
    "# sort and drop duplications time"
   ]
  },
  {
   "cell_type": "code",
   "execution_count": 75,
   "metadata": {
    "ExecuteTime": {
     "end_time": "2023-10-24T14:22:25.899020Z",
     "start_time": "2023-10-24T14:22:25.397008Z"
    }
   },
   "outputs": [
    {
     "name": "stdout",
     "output_type": "stream",
     "text": [
      "(440062, 6)\n"
     ]
    },
    {
     "data": {
      "text/html": [
       "<div>\n",
       "<style scoped>\n",
       "    .dataframe tbody tr th:only-of-type {\n",
       "        vertical-align: middle;\n",
       "    }\n",
       "\n",
       "    .dataframe tbody tr th {\n",
       "        vertical-align: top;\n",
       "    }\n",
       "\n",
       "    .dataframe thead th {\n",
       "        text-align: right;\n",
       "    }\n",
       "</style>\n",
       "<table border=\"1\" class=\"dataframe\">\n",
       "  <thead>\n",
       "    <tr style=\"text-align: right;\">\n",
       "      <th></th>\n",
       "      <th>Time</th>\n",
       "      <th>Open</th>\n",
       "      <th>High</th>\n",
       "      <th>Low</th>\n",
       "      <th>Close</th>\n",
       "      <th>Volume</th>\n",
       "    </tr>\n",
       "  </thead>\n",
       "  <tbody>\n",
       "    <tr>\n",
       "      <th>0</th>\n",
       "      <td>2022-08-02 22:02:00</td>\n",
       "      <td>1761.724</td>\n",
       "      <td>1761.784</td>\n",
       "      <td>1761.208</td>\n",
       "      <td>1761.264</td>\n",
       "      <td>1</td>\n",
       "    </tr>\n",
       "    <tr>\n",
       "      <th>1</th>\n",
       "      <td>2022-08-02 22:03:00</td>\n",
       "      <td>1761.244</td>\n",
       "      <td>1761.754</td>\n",
       "      <td>1761.148</td>\n",
       "      <td>1761.438</td>\n",
       "      <td>1</td>\n",
       "    </tr>\n",
       "    <tr>\n",
       "      <th>2</th>\n",
       "      <td>2022-08-02 22:04:00</td>\n",
       "      <td>1761.428</td>\n",
       "      <td>1761.498</td>\n",
       "      <td>1761.058</td>\n",
       "      <td>1761.475</td>\n",
       "      <td>1</td>\n",
       "    </tr>\n",
       "    <tr>\n",
       "      <th>3</th>\n",
       "      <td>2022-08-02 22:05:00</td>\n",
       "      <td>1761.475</td>\n",
       "      <td>1761.528</td>\n",
       "      <td>1760.998</td>\n",
       "      <td>1761.498</td>\n",
       "      <td>1</td>\n",
       "    </tr>\n",
       "    <tr>\n",
       "      <th>4</th>\n",
       "      <td>2022-08-02 22:06:00</td>\n",
       "      <td>1761.498</td>\n",
       "      <td>1762.268</td>\n",
       "      <td>1761.498</td>\n",
       "      <td>1762.104</td>\n",
       "      <td>1</td>\n",
       "    </tr>\n",
       "  </tbody>\n",
       "</table>\n",
       "</div>"
      ],
      "text/plain": [
       "                 Time      Open      High       Low     Close Volume\n",
       "0 2022-08-02 22:02:00  1761.724  1761.784  1761.208  1761.264      1\n",
       "1 2022-08-02 22:03:00  1761.244  1761.754  1761.148  1761.438      1\n",
       "2 2022-08-02 22:04:00  1761.428  1761.498  1761.058  1761.475      1\n",
       "3 2022-08-02 22:05:00  1761.475  1761.528  1760.998  1761.498      1\n",
       "4 2022-08-02 22:06:00  1761.498  1762.268  1761.498  1762.104      1"
      ]
     },
     "execution_count": 75,
     "metadata": {},
     "output_type": "execute_result"
    }
   ],
   "source": [
    "df['Time'] = pd.to_datetime(df['Time'])\n",
    "df = df.sort_values(by='Time')\n",
    "df = df.drop_duplicates(subset=['Time'])\n",
    "print(df.shape)\n",
    "df.head()"
   ]
  },
  {
   "cell_type": "code",
   "execution_count": 78,
   "metadata": {
    "ExecuteTime": {
     "end_time": "2023-10-24T14:23:23.801806Z",
     "start_time": "2023-10-24T14:23:19.841538Z"
    }
   },
   "outputs": [],
   "source": [
    "df.to_csv(\"data1.csv\")"
   ]
  },
  {
   "cell_type": "code",
   "execution_count": null,
   "metadata": {},
   "outputs": [],
   "source": []
  }
 ],
 "metadata": {
  "kernelspec": {
   "display_name": "Python 3",
   "language": "python",
   "name": "python3"
  },
  "language_info": {
   "codemirror_mode": {
    "name": "ipython",
    "version": 3
   },
   "file_extension": ".py",
   "mimetype": "text/x-python",
   "name": "python",
   "nbconvert_exporter": "python",
   "pygments_lexer": "ipython3",
   "version": "3.8.10"
  }
 },
 "nbformat": 4,
 "nbformat_minor": 4
}
