{
 "cells": [
  {
   "cell_type": "markdown",
   "metadata": {
    "ExecuteTime": {
     "end_time": "2023-07-05T21:34:39.891999Z",
     "start_time": "2023-07-05T21:34:37.497942Z"
    }
   },
   "source": [
    "# Imports"
   ]
  },
  {
   "cell_type": "code",
   "execution_count": 1,
   "metadata": {
    "ExecuteTime": {
     "end_time": "2024-04-24T15:50:37.102580Z",
     "start_time": "2024-04-24T15:50:36.312040Z"
    }
   },
   "outputs": [],
   "source": [
    "#!/usr/bin/env python\n",
    "# coding: utf-8\n",
    "import os\n",
    "import sys\n",
    "import json\n",
    "import time\n",
    "import pickle\n",
    "import numpy as np\n",
    "import pandas as pd\n",
    "from matplotlib import pyplot as plt"
   ]
  },
  {
   "cell_type": "code",
   "execution_count": 2,
   "metadata": {
    "ExecuteTime": {
     "end_time": "2024-04-24T15:50:37.110128Z",
     "start_time": "2024-04-24T15:50:37.105617Z"
    }
   },
   "outputs": [],
   "source": [
    "base_dir = \"./Data\"\n",
    "dirs = [\"01\", \"02\", \"03\", \"04\"]\n",
    "title = \"XAUUSD1.csv\""
   ]
  },
  {
   "cell_type": "code",
   "execution_count": 3,
   "metadata": {
    "ExecuteTime": {
     "end_time": "2024-04-24T15:50:38.497951Z",
     "start_time": "2024-04-24T15:50:37.113608Z"
    },
    "scrolled": true
   },
   "outputs": [
    {
     "name": "stderr",
     "output_type": "stream",
     "text": [
      "<ipython-input-3-c81627139f4d>:3: DtypeWarning: Columns (1,2,3,4,5) have mixed types. Specify dtype option on import or set low_memory=False.\n",
      "  df = pd.read_csv(f'{base_dir}/{_dir}/{title}', sep=\"\\t\", header=None)\n"
     ]
    }
   ],
   "source": [
    "files = []\n",
    "for _dir in dirs:\n",
    "    df = pd.read_csv(f'{base_dir}/{_dir}/{title}', sep=\"\\t\", header=None)\n",
    "    if df.iloc[0,0].lower() == \"time\":\n",
    "        df = df.iloc[1:,:]\n",
    "    df.columns = [\"Time\", \"Open\", \"High\", \"Low\", \"Close\", \"Volume\"]            \n",
    "    files.append( df)"
   ]
  },
  {
   "cell_type": "markdown",
   "metadata": {},
   "source": [
    "# concat all df together"
   ]
  },
  {
   "cell_type": "code",
   "execution_count": 4,
   "metadata": {
    "ExecuteTime": {
     "end_time": "2024-04-24T15:50:38.757704Z",
     "start_time": "2024-04-24T15:50:38.501299Z"
    },
    "scrolled": true
   },
   "outputs": [
    {
     "data": {
      "text/plain": [
       "(800000, 6)"
      ]
     },
     "execution_count": 4,
     "metadata": {},
     "output_type": "execute_result"
    }
   ],
   "source": [
    "df = pd.concat(files)\n",
    "df.shape"
   ]
  },
  {
   "cell_type": "markdown",
   "metadata": {},
   "source": [
    "# sort and drop duplications time"
   ]
  },
  {
   "cell_type": "code",
   "execution_count": 5,
   "metadata": {
    "ExecuteTime": {
     "end_time": "2024-04-24T15:50:39.560745Z",
     "start_time": "2024-04-24T15:50:38.761091Z"
    },
    "scrolled": true
   },
   "outputs": [
    {
     "name": "stdout",
     "output_type": "stream",
     "text": [
      "(615891, 6)\n"
     ]
    },
    {
     "data": {
      "text/html": [
       "<div>\n",
       "<style scoped>\n",
       "    .dataframe tbody tr th:only-of-type {\n",
       "        vertical-align: middle;\n",
       "    }\n",
       "\n",
       "    .dataframe tbody tr th {\n",
       "        vertical-align: top;\n",
       "    }\n",
       "\n",
       "    .dataframe thead th {\n",
       "        text-align: right;\n",
       "    }\n",
       "</style>\n",
       "<table border=\"1\" class=\"dataframe\">\n",
       "  <thead>\n",
       "    <tr style=\"text-align: right;\">\n",
       "      <th></th>\n",
       "      <th>Time</th>\n",
       "      <th>Open</th>\n",
       "      <th>High</th>\n",
       "      <th>Low</th>\n",
       "      <th>Close</th>\n",
       "      <th>Volume</th>\n",
       "    </tr>\n",
       "  </thead>\n",
       "  <tbody>\n",
       "    <tr>\n",
       "      <th>0</th>\n",
       "      <td>2022-08-02 22:02:00</td>\n",
       "      <td>1761.724</td>\n",
       "      <td>1761.784</td>\n",
       "      <td>1761.208</td>\n",
       "      <td>1761.264</td>\n",
       "      <td>1</td>\n",
       "    </tr>\n",
       "    <tr>\n",
       "      <th>1</th>\n",
       "      <td>2022-08-02 22:03:00</td>\n",
       "      <td>1761.244</td>\n",
       "      <td>1761.754</td>\n",
       "      <td>1761.148</td>\n",
       "      <td>1761.438</td>\n",
       "      <td>1</td>\n",
       "    </tr>\n",
       "    <tr>\n",
       "      <th>2</th>\n",
       "      <td>2022-08-02 22:04:00</td>\n",
       "      <td>1761.428</td>\n",
       "      <td>1761.498</td>\n",
       "      <td>1761.058</td>\n",
       "      <td>1761.475</td>\n",
       "      <td>1</td>\n",
       "    </tr>\n",
       "    <tr>\n",
       "      <th>3</th>\n",
       "      <td>2022-08-02 22:05:00</td>\n",
       "      <td>1761.475</td>\n",
       "      <td>1761.528</td>\n",
       "      <td>1760.998</td>\n",
       "      <td>1761.498</td>\n",
       "      <td>1</td>\n",
       "    </tr>\n",
       "    <tr>\n",
       "      <th>4</th>\n",
       "      <td>2022-08-02 22:06:00</td>\n",
       "      <td>1761.498</td>\n",
       "      <td>1762.268</td>\n",
       "      <td>1761.498</td>\n",
       "      <td>1762.104</td>\n",
       "      <td>1</td>\n",
       "    </tr>\n",
       "  </tbody>\n",
       "</table>\n",
       "</div>"
      ],
      "text/plain": [
       "                 Time      Open      High       Low     Close Volume\n",
       "0 2022-08-02 22:02:00  1761.724  1761.784  1761.208  1761.264      1\n",
       "1 2022-08-02 22:03:00  1761.244  1761.754  1761.148  1761.438      1\n",
       "2 2022-08-02 22:04:00  1761.428  1761.498  1761.058  1761.475      1\n",
       "3 2022-08-02 22:05:00  1761.475  1761.528  1760.998  1761.498      1\n",
       "4 2022-08-02 22:06:00  1761.498  1762.268  1761.498  1762.104      1"
      ]
     },
     "execution_count": 5,
     "metadata": {},
     "output_type": "execute_result"
    }
   ],
   "source": [
    "df['Time'] = pd.to_datetime(df['Time'])\n",
    "df = df.sort_values(by='Time')\n",
    "df = df.drop_duplicates(subset=['Time'])\n",
    "print(df.shape)\n",
    "df.head()"
   ]
  },
  {
   "cell_type": "code",
   "execution_count": 6,
   "metadata": {
    "ExecuteTime": {
     "end_time": "2024-04-24T15:50:40.244466Z",
     "start_time": "2024-04-24T15:50:40.230110Z"
    }
   },
   "outputs": [
    {
     "data": {
      "text/html": [
       "<div>\n",
       "<style scoped>\n",
       "    .dataframe tbody tr th:only-of-type {\n",
       "        vertical-align: middle;\n",
       "    }\n",
       "\n",
       "    .dataframe tbody tr th {\n",
       "        vertical-align: top;\n",
       "    }\n",
       "\n",
       "    .dataframe thead th {\n",
       "        text-align: right;\n",
       "    }\n",
       "</style>\n",
       "<table border=\"1\" class=\"dataframe\">\n",
       "  <thead>\n",
       "    <tr style=\"text-align: right;\">\n",
       "      <th></th>\n",
       "      <th>Time</th>\n",
       "      <th>Open</th>\n",
       "      <th>High</th>\n",
       "      <th>Low</th>\n",
       "      <th>Close</th>\n",
       "      <th>Volume</th>\n",
       "    </tr>\n",
       "  </thead>\n",
       "  <tbody>\n",
       "    <tr>\n",
       "      <th>199995</th>\n",
       "      <td>2024-04-24 14:55:00</td>\n",
       "      <td>2329.265</td>\n",
       "      <td>2330.048</td>\n",
       "      <td>2329.095</td>\n",
       "      <td>2329.095</td>\n",
       "      <td>1</td>\n",
       "    </tr>\n",
       "    <tr>\n",
       "      <th>199996</th>\n",
       "      <td>2024-04-24 14:56:00</td>\n",
       "      <td>2329.045</td>\n",
       "      <td>2329.168</td>\n",
       "      <td>2328.208</td>\n",
       "      <td>2328.508</td>\n",
       "      <td>1</td>\n",
       "    </tr>\n",
       "    <tr>\n",
       "      <th>199997</th>\n",
       "      <td>2024-04-24 14:57:00</td>\n",
       "      <td>2328.508</td>\n",
       "      <td>2329.375</td>\n",
       "      <td>2328.275</td>\n",
       "      <td>2329.268</td>\n",
       "      <td>1</td>\n",
       "    </tr>\n",
       "    <tr>\n",
       "      <th>199998</th>\n",
       "      <td>2024-04-24 14:58:00</td>\n",
       "      <td>2329.174</td>\n",
       "      <td>2330.248</td>\n",
       "      <td>2328.725</td>\n",
       "      <td>2329.138</td>\n",
       "      <td>1</td>\n",
       "    </tr>\n",
       "    <tr>\n",
       "      <th>199999</th>\n",
       "      <td>2024-04-24 14:59:00</td>\n",
       "      <td>2329.138</td>\n",
       "      <td>2329.595</td>\n",
       "      <td>2328.715</td>\n",
       "      <td>2329.578</td>\n",
       "      <td>1</td>\n",
       "    </tr>\n",
       "  </tbody>\n",
       "</table>\n",
       "</div>"
      ],
      "text/plain": [
       "                      Time      Open      High       Low     Close Volume\n",
       "199995 2024-04-24 14:55:00  2329.265  2330.048  2329.095  2329.095      1\n",
       "199996 2024-04-24 14:56:00  2329.045  2329.168  2328.208  2328.508      1\n",
       "199997 2024-04-24 14:57:00  2328.508  2329.375  2328.275  2329.268      1\n",
       "199998 2024-04-24 14:58:00  2329.174  2330.248  2328.725  2329.138      1\n",
       "199999 2024-04-24 14:59:00  2329.138  2329.595  2328.715  2329.578      1"
      ]
     },
     "execution_count": 6,
     "metadata": {},
     "output_type": "execute_result"
    }
   ],
   "source": [
    "df.tail()"
   ]
  },
  {
   "cell_type": "code",
   "execution_count": 7,
   "metadata": {
    "ExecuteTime": {
     "end_time": "2024-04-24T15:50:45.910651Z",
     "start_time": "2024-04-24T15:50:40.281014Z"
    }
   },
   "outputs": [],
   "source": [
    "df.to_csv(\"./Temp/data1.csv\")"
   ]
  },
  {
   "cell_type": "code",
   "execution_count": null,
   "metadata": {},
   "outputs": [],
   "source": []
  }
 ],
 "metadata": {
  "kernelspec": {
   "display_name": "Python 3",
   "language": "python",
   "name": "python3"
  },
  "language_info": {
   "codemirror_mode": {
    "name": "ipython",
    "version": 3
   },
   "file_extension": ".py",
   "mimetype": "text/x-python",
   "name": "python",
   "nbconvert_exporter": "python",
   "pygments_lexer": "ipython3",
   "version": "3.8.10"
  }
 },
 "nbformat": 4,
 "nbformat_minor": 4
}
