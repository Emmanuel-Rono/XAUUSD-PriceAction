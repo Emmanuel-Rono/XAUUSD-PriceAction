{
 "cells": [
  {
   "cell_type": "markdown",
   "metadata": {
    "ExecuteTime": {
     "end_time": "2023-07-05T21:34:39.891999Z",
     "start_time": "2023-07-05T21:34:37.497942Z"
    },
    "heading_collapsed": true
   },
   "source": [
    "# Imports"
   ]
  },
  {
   "cell_type": "code",
   "execution_count": 1,
   "metadata": {
    "ExecuteTime": {
     "end_time": "2023-07-06T11:50:55.705284Z",
     "start_time": "2023-07-06T11:50:51.402481Z"
    },
    "hidden": true
   },
   "outputs": [
    {
     "name": "stdout",
     "output_type": "stream",
     "text": [
      "keras version  2.9.0\n"
     ]
    }
   ],
   "source": [
    "#!/usr/bin/env python\n",
    "# coding: utf-8\n",
    "from __future__ import print_function\n",
    "from matplotlib import pyplot as plt\n",
    "from matplotlib.pyplot import figure\n",
    "\n",
    "import os\n",
    "import sys\n",
    "import json\n",
    "import time\n",
    "import pickle\n",
    "import numpy as np\n",
    "import pandas as pd\n",
    "import seaborn as sns\n",
    "from scipy import stats\n",
    "from os import listdir\n",
    "from os.path import isfile, join\n",
    "from tqdm import tqdm\n",
    "\n",
    "from sklearn import metrics\n",
    "from sklearn.metrics import classification_report\n",
    "from sklearn import preprocessing\n",
    "from sklearn.model_selection import train_test_split\n",
    "\n",
    "import tensorflow as tf\n",
    "import keras\n",
    "from keras import backend as K\n",
    "from keras.models import Sequential\n",
    "from keras.layers import Input,Dense, Dropout, Flatten, Reshape, GlobalAveragePooling1D, BatchNormalization,LSTM,Bidirectional\n",
    "from keras.layers import Conv2D, MaxPooling2D, Conv1D, MaxPooling1D,UpSampling1D, Conv1DTranspose,GaussianNoise \n",
    "from keras.utils import np_utils\n",
    "from keras import backend as K\n",
    "from keras.callbacks import Callback\n",
    "from keras.regularizers import l2 , l1, l1_l2\n",
    "import tensorflow.keras.backend as kb\n",
    "print('keras version ', keras.__version__)\n",
    "from IPython.display import clear_output\n",
    "from keras.utils.vis_utils import plot_model\n",
    "from keras.utils import to_categorical"
   ]
  },
  {
   "cell_type": "markdown",
   "metadata": {
    "heading_collapsed": true
   },
   "source": [
    "# Config"
   ]
  },
  {
   "cell_type": "code",
   "execution_count": 2,
   "metadata": {
    "ExecuteTime": {
     "end_time": "2023-07-06T11:50:55.712651Z",
     "start_time": "2023-07-06T11:50:55.708364Z"
    },
    "hidden": true
   },
   "outputs": [],
   "source": [
    "window_size = 100\n",
    "tp = 1\n",
    "sp = 1\n",
    "max_range_allowed = 15\n",
    "validation_size = 0.2\n",
    "test_size = 0.2"
   ]
  },
  {
   "cell_type": "markdown",
   "metadata": {
    "heading_collapsed": true
   },
   "source": [
    "# Load CSV"
   ]
  },
  {
   "cell_type": "code",
   "execution_count": 3,
   "metadata": {
    "ExecuteTime": {
     "end_time": "2023-07-06T11:50:56.072050Z",
     "start_time": "2023-07-06T11:50:55.716302Z"
    },
    "hidden": true
   },
   "outputs": [
    {
     "data": {
      "text/html": [
       "<div>\n",
       "<style scoped>\n",
       "    .dataframe tbody tr th:only-of-type {\n",
       "        vertical-align: middle;\n",
       "    }\n",
       "\n",
       "    .dataframe tbody tr th {\n",
       "        vertical-align: top;\n",
       "    }\n",
       "\n",
       "    .dataframe thead th {\n",
       "        text-align: right;\n",
       "    }\n",
       "</style>\n",
       "<table border=\"1\" class=\"dataframe\">\n",
       "  <thead>\n",
       "    <tr style=\"text-align: right;\">\n",
       "      <th></th>\n",
       "      <th>Time</th>\n",
       "      <th>Open</th>\n",
       "      <th>High</th>\n",
       "      <th>Low</th>\n",
       "      <th>Close</th>\n",
       "      <th>Volume</th>\n",
       "    </tr>\n",
       "  </thead>\n",
       "  <tbody>\n",
       "    <tr>\n",
       "      <th>0</th>\n",
       "      <td>2022-08-02 22:02</td>\n",
       "      <td>1761.724</td>\n",
       "      <td>1761.784</td>\n",
       "      <td>1761.208</td>\n",
       "      <td>1761.264</td>\n",
       "      <td>1</td>\n",
       "    </tr>\n",
       "    <tr>\n",
       "      <th>1</th>\n",
       "      <td>2022-08-02 22:03</td>\n",
       "      <td>1761.244</td>\n",
       "      <td>1761.754</td>\n",
       "      <td>1761.148</td>\n",
       "      <td>1761.438</td>\n",
       "      <td>1</td>\n",
       "    </tr>\n",
       "  </tbody>\n",
       "</table>\n",
       "</div>"
      ],
      "text/plain": [
       "               Time      Open      High       Low     Close  Volume\n",
       "0  2022-08-02 22:02  1761.724  1761.784  1761.208  1761.264       1\n",
       "1  2022-08-02 22:03  1761.244  1761.754  1761.148  1761.438       1"
      ]
     },
     "execution_count": 3,
     "metadata": {},
     "output_type": "execute_result"
    }
   ],
   "source": [
    "data1 = pd.read_csv(\"./Data/01/XAUUSD1.csv\", sep=\"\\t\", header=None)\n",
    "data1.columns = [\"Time\", \"Open\", \"High\", \"Low\", \"Close\", \"Volume\"]\n",
    "data1.head(2)"
   ]
  },
  {
   "cell_type": "code",
   "execution_count": 4,
   "metadata": {
    "ExecuteTime": {
     "end_time": "2023-07-06T11:50:56.538436Z",
     "start_time": "2023-07-06T11:50:56.075523Z"
    },
    "hidden": true
   },
   "outputs": [
    {
     "data": {
      "text/html": [
       "<div>\n",
       "<style scoped>\n",
       "    .dataframe tbody tr th:only-of-type {\n",
       "        vertical-align: middle;\n",
       "    }\n",
       "\n",
       "    .dataframe tbody tr th {\n",
       "        vertical-align: top;\n",
       "    }\n",
       "\n",
       "    .dataframe thead th {\n",
       "        text-align: right;\n",
       "    }\n",
       "</style>\n",
       "<table border=\"1\" class=\"dataframe\">\n",
       "  <thead>\n",
       "    <tr style=\"text-align: right;\">\n",
       "      <th></th>\n",
       "      <th>Time</th>\n",
       "      <th>Open</th>\n",
       "      <th>High</th>\n",
       "      <th>Low</th>\n",
       "      <th>Close</th>\n",
       "      <th>Volume</th>\n",
       "    </tr>\n",
       "  </thead>\n",
       "  <tbody>\n",
       "    <tr>\n",
       "      <th>0</th>\n",
       "      <td>2022-12-09 01:06</td>\n",
       "      <td>1791.348</td>\n",
       "      <td>1791.538</td>\n",
       "      <td>1791.248</td>\n",
       "      <td>1791.258</td>\n",
       "      <td>1</td>\n",
       "    </tr>\n",
       "    <tr>\n",
       "      <th>1</th>\n",
       "      <td>2022-12-09 01:07</td>\n",
       "      <td>1791.178</td>\n",
       "      <td>1791.577</td>\n",
       "      <td>1791.168</td>\n",
       "      <td>1791.538</td>\n",
       "      <td>1</td>\n",
       "    </tr>\n",
       "  </tbody>\n",
       "</table>\n",
       "</div>"
      ],
      "text/plain": [
       "               Time      Open      High       Low     Close  Volume\n",
       "0  2022-12-09 01:06  1791.348  1791.538  1791.248  1791.258       1\n",
       "1  2022-12-09 01:07  1791.178  1791.577  1791.168  1791.538       1"
      ]
     },
     "execution_count": 4,
     "metadata": {},
     "output_type": "execute_result"
    }
   ],
   "source": [
    "data2 = pd.read_csv(\"./Data/02/XAUUSD_M1.csv\", sep=\"\\t\")\n",
    "data2['Time'] = data2['Time'].apply(lambda x: x[:-3])\n",
    "data2.head(2)"
   ]
  },
  {
   "cell_type": "code",
   "execution_count": 5,
   "metadata": {
    "ExecuteTime": {
     "end_time": "2023-07-06T11:50:56.784807Z",
     "start_time": "2023-07-06T11:50:56.541040Z"
    },
    "hidden": true
   },
   "outputs": [],
   "source": [
    "s1 = set(data1[\"Time\"])\n",
    "s2 = set(data2[\"Time\"])\n",
    "data1 = data1[data1[\"Time\"].isin(s1 - s2)]"
   ]
  },
  {
   "cell_type": "code",
   "execution_count": 6,
   "metadata": {
    "ExecuteTime": {
     "end_time": "2023-07-06T11:50:56.854352Z",
     "start_time": "2023-07-06T11:50:56.787495Z"
    },
    "hidden": true
   },
   "outputs": [
    {
     "name": "stdout",
     "output_type": "stream",
     "text": [
      "(331486, 6)\n"
     ]
    },
    {
     "data": {
      "text/html": [
       "<div>\n",
       "<style scoped>\n",
       "    .dataframe tbody tr th:only-of-type {\n",
       "        vertical-align: middle;\n",
       "    }\n",
       "\n",
       "    .dataframe tbody tr th {\n",
       "        vertical-align: top;\n",
       "    }\n",
       "\n",
       "    .dataframe thead th {\n",
       "        text-align: right;\n",
       "    }\n",
       "</style>\n",
       "<table border=\"1\" class=\"dataframe\">\n",
       "  <thead>\n",
       "    <tr style=\"text-align: right;\">\n",
       "      <th></th>\n",
       "      <th>Time</th>\n",
       "      <th>Open</th>\n",
       "      <th>High</th>\n",
       "      <th>Low</th>\n",
       "      <th>Close</th>\n",
       "      <th>Volume</th>\n",
       "    </tr>\n",
       "  </thead>\n",
       "  <tbody>\n",
       "    <tr>\n",
       "      <th>0</th>\n",
       "      <td>2022-08-02 22:02</td>\n",
       "      <td>1761.724</td>\n",
       "      <td>1761.784</td>\n",
       "      <td>1761.208</td>\n",
       "      <td>1761.264</td>\n",
       "      <td>1</td>\n",
       "    </tr>\n",
       "    <tr>\n",
       "      <th>1</th>\n",
       "      <td>2022-08-02 22:03</td>\n",
       "      <td>1761.244</td>\n",
       "      <td>1761.754</td>\n",
       "      <td>1761.148</td>\n",
       "      <td>1761.438</td>\n",
       "      <td>1</td>\n",
       "    </tr>\n",
       "  </tbody>\n",
       "</table>\n",
       "</div>"
      ],
      "text/plain": [
       "               Time      Open      High       Low     Close  Volume\n",
       "0  2022-08-02 22:02  1761.724  1761.784  1761.208  1761.264       1\n",
       "1  2022-08-02 22:03  1761.244  1761.754  1761.148  1761.438       1"
      ]
     },
     "execution_count": 6,
     "metadata": {},
     "output_type": "execute_result"
    }
   ],
   "source": [
    "data = pd.concat([data1, data2])\n",
    "print(data.shape)\n",
    "data.head(2)"
   ]
  },
  {
   "cell_type": "code",
   "execution_count": 7,
   "metadata": {
    "ExecuteTime": {
     "end_time": "2023-07-06T11:50:57.181115Z",
     "start_time": "2023-07-06T11:50:56.856952Z"
    },
    "hidden": true,
    "scrolled": true
   },
   "outputs": [
    {
     "data": {
      "text/html": [
       "<div>\n",
       "<style scoped>\n",
       "    .dataframe tbody tr th:only-of-type {\n",
       "        vertical-align: middle;\n",
       "    }\n",
       "\n",
       "    .dataframe tbody tr th {\n",
       "        vertical-align: top;\n",
       "    }\n",
       "\n",
       "    .dataframe thead th {\n",
       "        text-align: right;\n",
       "    }\n",
       "</style>\n",
       "<table border=\"1\" class=\"dataframe\">\n",
       "  <thead>\n",
       "    <tr style=\"text-align: right;\">\n",
       "      <th></th>\n",
       "      <th>Time</th>\n",
       "      <th>Open</th>\n",
       "      <th>High</th>\n",
       "      <th>Low</th>\n",
       "      <th>Close</th>\n",
       "      <th>Volume</th>\n",
       "    </tr>\n",
       "  </thead>\n",
       "  <tbody>\n",
       "    <tr>\n",
       "      <th>0</th>\n",
       "      <td>2022-08-02 22:02</td>\n",
       "      <td>1761.724</td>\n",
       "      <td>1761.784</td>\n",
       "      <td>1761.208</td>\n",
       "      <td>1761.264</td>\n",
       "      <td>1</td>\n",
       "    </tr>\n",
       "    <tr>\n",
       "      <th>1</th>\n",
       "      <td>2022-08-02 22:03</td>\n",
       "      <td>1761.244</td>\n",
       "      <td>1761.754</td>\n",
       "      <td>1761.148</td>\n",
       "      <td>1761.438</td>\n",
       "      <td>1</td>\n",
       "    </tr>\n",
       "  </tbody>\n",
       "</table>\n",
       "</div>"
      ],
      "text/plain": [
       "               Time      Open      High       Low     Close  Volume\n",
       "0  2022-08-02 22:02  1761.724  1761.784  1761.208  1761.264       1\n",
       "1  2022-08-02 22:03  1761.244  1761.754  1761.148  1761.438       1"
      ]
     },
     "execution_count": 7,
     "metadata": {},
     "output_type": "execute_result"
    }
   ],
   "source": [
    "data = data.sort_values(by='Time')\n",
    "data.head(2)"
   ]
  },
  {
   "cell_type": "markdown",
   "metadata": {
    "heading_collapsed": true
   },
   "source": [
    "# Create dataset"
   ]
  },
  {
   "cell_type": "code",
   "execution_count": 8,
   "metadata": {
    "ExecuteTime": {
     "end_time": "2023-07-06T11:50:57.189944Z",
     "start_time": "2023-07-06T11:50:57.185427Z"
    },
    "hidden": true
   },
   "outputs": [],
   "source": [
    "def normalize_zero_base(array):\n",
    "    min_val = array.min(axis=0)\n",
    "    max_val = array.max(axis=0)\n",
    "    normalized_array = (array - min_val) / (max_val - min_val)\n",
    "    return normalized_array"
   ]
  },
  {
   "cell_type": "code",
   "execution_count": 9,
   "metadata": {
    "ExecuteTime": {
     "end_time": "2023-07-06T11:51:51.259869Z",
     "start_time": "2023-07-06T11:50:57.193295Z"
    },
    "hidden": true,
    "scrolled": true
   },
   "outputs": [
    {
     "name": "stderr",
     "output_type": "stream",
     "text": [
      "100%|██████████| 331386/331386 [00:53<00:00, 6145.86it/s]\n"
     ]
    }
   ],
   "source": [
    "features = []\n",
    "targets = []\n",
    "values = data.values\n",
    "for i in tqdm(range(window_size, data.shape[0])):    \n",
    "    x = values[i-window_size:i, 1:-1]\n",
    "    x = normalize_zero_base(x)\n",
    "    features.append(x)\n",
    "    price = values[i-1, 4]        \n",
    "    decistion = False\n",
    "    counter = 0\n",
    "    for j in range(i, data.shape[0]):\n",
    "        counter += 1 \n",
    "        low = values[j, 3]\n",
    "        high = values[j, 2]         \n",
    "        if((price - sp) >= low):\n",
    "            targets.append(-1)\n",
    "            decistion = True             \n",
    "            break\n",
    "        \n",
    "        if((price + tp) <= high):\n",
    "            targets.append(1)\n",
    "            decistion = True            \n",
    "            break\n",
    "            \n",
    "        if(counter >= max_range_allowed):\n",
    "            break\n",
    "    if(not decistion):\n",
    "        targets.append(0)        "
   ]
  },
  {
   "cell_type": "code",
   "execution_count": 10,
   "metadata": {
    "ExecuteTime": {
     "end_time": "2023-07-06T11:51:52.661126Z",
     "start_time": "2023-07-06T11:51:51.263469Z"
    },
    "hidden": true
   },
   "outputs": [
    {
     "data": {
      "image/png": "[encoded data removed]",
      "text/plain": [
       "<Figure size 720x360 with 1 Axes>"
      ]
     },
     "metadata": {
      "needs_background": "light"
     },
     "output_type": "display_data"
    }
   ],
   "source": [
    "plt.figure(figsize=(10,5))\n",
    "for i in range(window_size, 500):\n",
    "    if(targets[i-window_size] == 1):\n",
    "        color = [0.25, 1., 0.25, 1. ]\n",
    "    if(targets[i-window_size] == -1):\n",
    "        color = [1., 0, 0, 1. ]\n",
    "    if(targets[i-window_size] == 0):\n",
    "        color = [0, 0, 1., 1. ]        \n",
    "    plt.plot(i-window_size, values[i,4] , marker='o', markersize=5, color=color)\n",
    "plt.show()"
   ]
  },
  {
   "cell_type": "markdown",
   "metadata": {
    "heading_collapsed": true
   },
   "source": [
    "# Train and test split"
   ]
  },
  {
   "cell_type": "code",
   "execution_count": 11,
   "metadata": {
    "ExecuteTime": {
     "end_time": "2023-07-06T11:51:52.697161Z",
     "start_time": "2023-07-06T11:51:52.663870Z"
    },
    "hidden": true,
    "scrolled": true
   },
   "outputs": [
    {
     "name": "stdout",
     "output_type": "stream",
     "text": [
      "212088 212088\n",
      "66277 66277\n",
      "53021 53021\n"
     ]
    }
   ],
   "source": [
    "def train_test_split(features, targets, test_size):    \n",
    "    split = len(features) - int(test_size * len(features))\n",
    "    x_train = features[:split]\n",
    "    y_train = targets[:split]\n",
    "    x_test = features[split:]\n",
    "    y_test = targets[split:]\n",
    "    return x_train, y_train, x_test, y_test\n",
    "\n",
    "x_train, y_train, x_test, y_test = train_test_split(features, targets, test_size)\n",
    "x_train, y_train, x_val, y_val = train_test_split(x_train, y_train, validation_size)\n",
    "\n",
    "print(len(x_train), len(y_train))\n",
    "print(len(x_test), len(y_test))\n",
    "print(len(x_val), len(y_val))"
   ]
  },
  {
   "cell_type": "markdown",
   "metadata": {
    "heading_collapsed": true
   },
   "source": [
    "# Change dataset types"
   ]
  },
  {
   "cell_type": "code",
   "execution_count": 12,
   "metadata": {
    "ExecuteTime": {
     "end_time": "2023-07-06T11:52:06.010989Z",
     "start_time": "2023-07-06T11:51:52.699835Z"
    },
    "hidden": true
   },
   "outputs": [],
   "source": [
    "x_train = np.array(x_train).astype(\"float32\")\n",
    "y_train = np.array(y_train).astype(\"float32\")\n",
    "x_val = np.array(x_val).astype(\"float32\")\n",
    "y_val = np.array(y_val).astype(\"float32\")\n",
    "x_test = np.array(x_test).astype(\"float32\")\n",
    "y_test = np.array(y_test).astype(\"float32\")"
   ]
  },
  {
   "cell_type": "code",
   "execution_count": 13,
   "metadata": {
    "ExecuteTime": {
     "end_time": "2023-07-06T11:52:06.127272Z",
     "start_time": "2023-07-06T11:52:06.015663Z"
    },
    "hidden": true,
    "scrolled": false
   },
   "outputs": [
    {
     "data": {
      "image/png": "[encoded data removed]",
      "text/plain": [
       "<Figure size 432x288 with 1 Axes>"
      ]
     },
     "metadata": {},
     "output_type": "display_data"
    }
   ],
   "source": [
    "freq = pd.Series(y_train).value_counts()\n",
    "plt.pie(freq.values, labels=freq.index, autopct='%1.1f%%')\n",
    "plt.title('Class Distribution')\n",
    "plt.show()"
   ]
  },
  {
   "cell_type": "code",
   "execution_count": 14,
   "metadata": {
    "ExecuteTime": {
     "end_time": "2023-07-06T11:52:06.140505Z",
     "start_time": "2023-07-06T11:52:06.130420Z"
    },
    "hidden": true
   },
   "outputs": [],
   "source": [
    "y_train = to_categorical(y_train, num_classes=3)\n",
    "y_val = to_categorical(y_val, num_classes=3)\n",
    "y_test = to_categorical(y_test, num_classes=3)"
   ]
  },
  {
   "cell_type": "markdown",
   "metadata": {
    "heading_collapsed": true
   },
   "source": [
    "# Class weight"
   ]
  },
  {
   "cell_type": "code",
   "execution_count": 15,
   "metadata": {
    "ExecuteTime": {
     "end_time": "2023-07-06T11:52:06.147168Z",
     "start_time": "2023-07-06T11:52:06.143162Z"
    },
    "hidden": true
   },
   "outputs": [],
   "source": [
    "class_weight = {0: 1, 1: 1, 2: 1}"
   ]
  },
  {
   "cell_type": "markdown",
   "metadata": {
    "heading_collapsed": true
   },
   "source": [
    "# Deep learning model"
   ]
  },
  {
   "cell_type": "code",
   "execution_count": 16,
   "metadata": {
    "ExecuteTime": {
     "end_time": "2023-07-06T11:52:06.719521Z",
     "start_time": "2023-07-06T11:52:06.150052Z"
    },
    "hidden": true
   },
   "outputs": [
    {
     "name": "stdout",
     "output_type": "stream",
     "text": [
      "Model: \"sequential\"\n",
      "_________________________________________________________________\n",
      " Layer (type)                Output Shape              Param #   \n",
      "=================================================================\n",
      " lstm (LSTM)                 (None, 100, 32)           4736      \n",
      "                                                                 \n",
      " batch_normalization (BatchN  (None, 100, 32)          128       \n",
      " ormalization)                                                   \n",
      "                                                                 \n",
      " dropout (Dropout)           (None, 100, 32)           0         \n",
      "                                                                 \n",
      " flatten (Flatten)           (None, 3200)              0         \n",
      "                                                                 \n",
      " dense (Dense)               (None, 16)                51216     \n",
      "                                                                 \n",
      " dense_1 (Dense)             (None, 3)                 51        \n",
      "                                                                 \n",
      "=================================================================\n",
      "Total params: 56,131\n",
      "Trainable params: 56,067\n",
      "Non-trainable params: 64\n",
      "_________________________________________________________________\n"
     ]
    }
   ],
   "source": [
    "model = Sequential()\n",
    "model.add(LSTM(32, return_sequences=True,input_shape=(x_train.shape[1], x_train.shape[2])))\n",
    "model.add(BatchNormalization())\n",
    "model.add(Dropout(0.8))\n",
    "model.add(Flatten())\n",
    "model.add(Dense(units=16, activation='relu'))\n",
    "model.add(Dense(units=3, activation='softmax'))\n",
    "model.summary()"
   ]
  },
  {
   "cell_type": "markdown",
   "metadata": {},
   "source": [
    "# Train the model"
   ]
  },
  {
   "cell_type": "code",
   "execution_count": null,
   "metadata": {
    "ExecuteTime": {
     "start_time": "2023-07-06T11:51:02.080Z"
    }
   },
   "outputs": [
    {
     "name": "stdout",
     "output_type": "stream",
     "text": [
      "Epoch 1/100\n",
      "4637/6628 [===================>..........] - ETA: 2:59 - loss: 1.0935 - acc: 0.3588"
     ]
    }
   ],
   "source": [
    "model.compile(\n",
    "    loss='categorical_crossentropy',\n",
    "    optimizer=tf.keras.optimizers.Adam(),\n",
    "    metrics=['acc']\n",
    ")\n",
    "\n",
    "epochs = 100\n",
    "batch_size = 32\n",
    "\n",
    "es = tf.keras.callbacks.EarlyStopping(monitor=\"val_loss\", patience=5)\n",
    "\n",
    "history = model.fit(x_train, \n",
    "                    y_train,\n",
    "                    epochs=epochs,\n",
    "                    validation_data=(x_val, y_val),\n",
    "                    batch_size=batch_size,\n",
    "                    verbose=1,\n",
    "                    callbacks=[es],\n",
    "                    class_weight=class_weight\n",
    "                    )"
   ]
  },
  {
   "cell_type": "code",
   "execution_count": null,
   "metadata": {},
   "outputs": [],
   "source": []
  }
 ],
 "metadata": {
  "kernelspec": {
   "display_name": "Python 3",
   "language": "python",
   "name": "python3"
  },
  "language_info": {
   "codemirror_mode": {
    "name": "ipython",
    "version": 3
   },
   "file_extension": ".py",
   "mimetype": "text/x-python",
   "name": "python",
   "nbconvert_exporter": "python",
   "pygments_lexer": "ipython3",
   "version": "3.8.10"
  }
 },
 "nbformat": 4,
 "nbformat_minor": 4
}
